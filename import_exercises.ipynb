{
 "cells": [
  {
   "cell_type": "markdown",
   "metadata": {},
   "source": [
    "# 1.c"
   ]
  },
  {
   "cell_type": "code",
   "execution_count": 165,
   "metadata": {},
   "outputs": [
    {
     "name": "stdout",
     "output_type": "stream",
     "text": [
      "x:  A ,  y:  C\n"
     ]
    }
   ],
   "source": [
    "from function_exercises import get_letter_grade as glg\n",
    "\n",
    "x=glg(100)\n",
    "y=glg(70)\n",
    "print('x: ',x,', ','y: ',y)"
   ]
  },
  {
   "cell_type": "markdown",
   "metadata": {},
   "source": [
    "# 2.a"
   ]
  },
  {
   "cell_type": "code",
   "execution_count": 173,
   "metadata": {},
   "outputs": [
    {
     "ename": "TypeError",
     "evalue": "'list' object is not callable",
     "output_type": "error",
     "traceback": [
      "\u001b[0;31m---------------------------------------------------------------------------\u001b[0m",
      "\u001b[0;31mTypeError\u001b[0m                                 Traceback (most recent call last)",
      "\u001b[0;32m/var/folders/mk/w2hz4wxx7xn5hr_56wz536gh0000gn/T/ipykernel_2710/2170240467.py\u001b[0m in \u001b[0;36m<module>\u001b[0;34m\u001b[0m\n\u001b[1;32m      1\u001b[0m \u001b[0;32mfrom\u001b[0m \u001b[0mitertools\u001b[0m \u001b[0;32mimport\u001b[0m \u001b[0mpermutations\u001b[0m\u001b[0;34m\u001b[0m\u001b[0;34m\u001b[0m\u001b[0m\n\u001b[1;32m      2\u001b[0m \u001b[0my\u001b[0m\u001b[0;34m=\u001b[0m\u001b[0;34m'123abc'\u001b[0m\u001b[0;34m\u001b[0m\u001b[0;34m\u001b[0m\u001b[0m\n\u001b[0;32m----> 3\u001b[0;31m \u001b[0mx\u001b[0m\u001b[0;34m=\u001b[0m\u001b[0mlist\u001b[0m\u001b[0;34m(\u001b[0m\u001b[0mpermutations\u001b[0m\u001b[0;34m(\u001b[0m\u001b[0my\u001b[0m\u001b[0;34m)\u001b[0m\u001b[0;34m)\u001b[0m\u001b[0;34m\u001b[0m\u001b[0;34m\u001b[0m\u001b[0m\n\u001b[0m\u001b[1;32m      4\u001b[0m \u001b[0;32mfor\u001b[0m \u001b[0mi\u001b[0m \u001b[0;32min\u001b[0m \u001b[0mx\u001b[0m\u001b[0;34m:\u001b[0m\u001b[0;34m\u001b[0m\u001b[0;34m\u001b[0m\u001b[0m\n\u001b[1;32m      5\u001b[0m         \u001b[0mprint\u001b[0m\u001b[0;34m(\u001b[0m\u001b[0mx\u001b[0m\u001b[0;34m)\u001b[0m\u001b[0;34m\u001b[0m\u001b[0;34m\u001b[0m\u001b[0m\n",
      "\u001b[0;31mTypeError\u001b[0m: 'list' object is not callable"
     ]
    }
   ],
   "source": [
    "from itertools import permutations\n",
    "y='123abc'\n",
    "x=list(permutations(y))\n",
    "for i in x:\n",
    "\tprint(x)\n"
   ]
  },
  {
   "cell_type": "markdown",
   "metadata": {},
   "source": [
    "# 2.b"
   ]
  },
  {
   "cell_type": "code",
   "execution_count": null,
   "metadata": {},
   "outputs": [
    {
     "ename": "TypeError",
     "evalue": "'list' object is not callable",
     "output_type": "error",
     "traceback": [
      "\u001b[0;31m---------------------------------------------------------------------------\u001b[0m",
      "\u001b[0;31mTypeError\u001b[0m                                 Traceback (most recent call last)",
      "\u001b[0;32m/var/folders/mk/w2hz4wxx7xn5hr_56wz536gh0000gn/T/ipykernel_2710/2584627655.py\u001b[0m in \u001b[0;36m<module>\u001b[0;34m\u001b[0m\n\u001b[1;32m      1\u001b[0m \u001b[0;32mfrom\u001b[0m \u001b[0mitertools\u001b[0m \u001b[0;32mimport\u001b[0m \u001b[0mcombinations\u001b[0m\u001b[0;34m\u001b[0m\u001b[0;34m\u001b[0m\u001b[0m\n\u001b[1;32m      2\u001b[0m \u001b[0my\u001b[0m\u001b[0;34m=\u001b[0m\u001b[0;34m'abcd'\u001b[0m\u001b[0;34m\u001b[0m\u001b[0;34m\u001b[0m\u001b[0m\n\u001b[0;32m----> 3\u001b[0;31m \u001b[0mx\u001b[0m\u001b[0;34m=\u001b[0m\u001b[0mlist\u001b[0m\u001b[0;34m(\u001b[0m\u001b[0mcombinations\u001b[0m\u001b[0;34m(\u001b[0m\u001b[0my\u001b[0m\u001b[0;34m,\u001b[0m\u001b[0;36m2\u001b[0m\u001b[0;34m)\u001b[0m\u001b[0;34m)\u001b[0m\u001b[0;34m\u001b[0m\u001b[0;34m\u001b[0m\u001b[0m\n\u001b[0m\u001b[1;32m      4\u001b[0m \u001b[0;32mfor\u001b[0m \u001b[0mi\u001b[0m \u001b[0;32min\u001b[0m \u001b[0mx\u001b[0m\u001b[0;34m:\u001b[0m\u001b[0;34m\u001b[0m\u001b[0;34m\u001b[0m\u001b[0m\n\u001b[1;32m      5\u001b[0m         \u001b[0mprint\u001b[0m\u001b[0;34m(\u001b[0m\u001b[0mx\u001b[0m\u001b[0;34m)\u001b[0m\u001b[0;34m\u001b[0m\u001b[0;34m\u001b[0m\u001b[0m\n",
      "\u001b[0;31mTypeError\u001b[0m: 'list' object is not callable"
     ]
    }
   ],
   "source": [
    "from itertools import combinations\n",
    "y='abcd'\n",
    "x=list(combinations(y,2))\n",
    "for i in x:\n",
    "\tprint(x)"
   ]
  },
  {
   "cell_type": "markdown",
   "metadata": {},
   "source": [
    "# 2.c"
   ]
  },
  {
   "cell_type": "code",
   "execution_count": 174,
   "metadata": {},
   "outputs": [
    {
     "ename": "TypeError",
     "evalue": "'list' object is not callable",
     "output_type": "error",
     "traceback": [
      "\u001b[0;31m---------------------------------------------------------------------------\u001b[0m",
      "\u001b[0;31mTypeError\u001b[0m                                 Traceback (most recent call last)",
      "\u001b[0;32m/var/folders/mk/w2hz4wxx7xn5hr_56wz536gh0000gn/T/ipykernel_2710/3325168785.py\u001b[0m in \u001b[0;36m<module>\u001b[0;34m\u001b[0m\n\u001b[1;32m      1\u001b[0m \u001b[0;32mfrom\u001b[0m \u001b[0mitertools\u001b[0m \u001b[0;32mimport\u001b[0m \u001b[0mpermutations\u001b[0m\u001b[0;34m\u001b[0m\u001b[0;34m\u001b[0m\u001b[0m\n\u001b[1;32m      2\u001b[0m \u001b[0my\u001b[0m\u001b[0;34m=\u001b[0m\u001b[0;34m'abcd'\u001b[0m\u001b[0;34m\u001b[0m\u001b[0;34m\u001b[0m\u001b[0m\n\u001b[0;32m----> 3\u001b[0;31m \u001b[0mx\u001b[0m\u001b[0;34m=\u001b[0m\u001b[0mlist\u001b[0m\u001b[0;34m(\u001b[0m\u001b[0mpermutations\u001b[0m\u001b[0;34m(\u001b[0m\u001b[0my\u001b[0m\u001b[0;34m,\u001b[0m\u001b[0;36m2\u001b[0m\u001b[0;34m)\u001b[0m\u001b[0;34m)\u001b[0m\u001b[0;34m\u001b[0m\u001b[0;34m\u001b[0m\u001b[0m\n\u001b[0m\u001b[1;32m      4\u001b[0m \u001b[0;32mfor\u001b[0m \u001b[0mi\u001b[0m \u001b[0;32min\u001b[0m \u001b[0mx\u001b[0m\u001b[0;34m:\u001b[0m\u001b[0;34m\u001b[0m\u001b[0;34m\u001b[0m\u001b[0m\n\u001b[1;32m      5\u001b[0m         \u001b[0mprint\u001b[0m\u001b[0;34m(\u001b[0m\u001b[0mx\u001b[0m\u001b[0;34m)\u001b[0m\u001b[0;34m\u001b[0m\u001b[0;34m\u001b[0m\u001b[0m\n",
      "\u001b[0;31mTypeError\u001b[0m: 'list' object is not callable"
     ]
    }
   ],
   "source": [
    "from itertools import permutations\n",
    "y='abcd'\n",
    "x=list(permutations(y,2))\n",
    "for i in x:\n",
    "\tprint(x)"
   ]
  },
  {
   "cell_type": "markdown",
   "metadata": {},
   "source": [
    "# 3"
   ]
  },
  {
   "cell_type": "code",
   "execution_count": null,
   "metadata": {},
   "outputs": [],
   "source": [
    "import json, pprint\n",
    "\n",
    "descriptive_variable=json.load(open('profiles.json'))\n",
    "pprint.pprint(descriptive_variable)"
   ]
  },
  {
   "cell_type": "markdown",
   "metadata": {},
   "source": [
    "# 3.a"
   ]
  },
  {
   "cell_type": "code",
   "execution_count": null,
   "metadata": {},
   "outputs": [
    {
     "name": "stdout",
     "output_type": "stream",
     "text": [
      "Total number of users: 19\n"
     ]
    }
   ],
   "source": [
    "this_is_the_way=[]\n",
    "for i in descriptive_variable:\n",
    "\tthis_dict=i\n",
    "\tthis_is_the_way.append(i['name'])\n",
    "print('Total number of users:', len(this_is_the_way))\n"
   ]
  },
  {
   "cell_type": "markdown",
   "metadata": {},
   "source": [
    "# 3.b"
   ]
  },
  {
   "cell_type": "code",
   "execution_count": null,
   "metadata": {},
   "outputs": [
    {
     "name": "stdout",
     "output_type": "stream",
     "text": [
      "Number of active users: 9\n"
     ]
    }
   ],
   "source": [
    "import json, pprint\n",
    "\n",
    "profiles=json.load(open('profiles.json'))\n",
    "\n",
    "actives_table=[]\n",
    "inactives_table=[]\n",
    "for i in descriptive_variable:\n",
    "\tif i['isActive'] == False:\n",
    "\t\tinactives_table.append(i['name'])\n",
    "\telse:\n",
    "\t\tactives_table.append(i['name'])\n",
    "\n",
    "print('Number of active users:', len(actives_table))\n",
    "\n",
    "\n",
    "\n"
   ]
  },
  {
   "cell_type": "markdown",
   "metadata": {},
   "source": [
    "# 3.c"
   ]
  },
  {
   "cell_type": "code",
   "execution_count": null,
   "metadata": {},
   "outputs": [
    {
     "name": "stdout",
     "output_type": "stream",
     "text": [
      "Number of inactive users: 10\n"
     ]
    }
   ],
   "source": [
    "import json, pprint\n",
    "\n",
    "profiles=json.load(open('profiles.json'))\n",
    "# pprint.pprint(profiles)\n",
    "\n",
    "actives_table=[]\n",
    "inactives_table=[]\n",
    "for i in descriptive_variable:\n",
    "\tif i['isActive'] == False:\n",
    "\t\tinactives_table.append(i['name'])\n",
    "\telse:\n",
    "\t\tactives_table.append(i['name'])\n",
    "\n",
    "print('Number of inactive users:', len(inactives_table))"
   ]
  },
  {
   "cell_type": "markdown",
   "metadata": {},
   "source": [
    "# 3.d"
   ]
  },
  {
   "cell_type": "code",
   "execution_count": null,
   "metadata": {},
   "outputs": [
    {
     "name": "stdout",
     "output_type": "stream",
     "text": [
      "Grand total of balances: $52667.02\n"
     ]
    }
   ],
   "source": [
    "import json\n",
    "import pprint\n",
    "import function_exercises\n",
    "\n",
    "profiles = json.load(open('profiles.json'))\n",
    "balances_list = []\n",
    "# pprint.pprint(profiles)\n",
    "\n",
    "def cleaner(string_of_nums):\n",
    "\tcleanered = []\n",
    "\tfor i in string_of_nums:\n",
    "\t\tif i.isdigit() or i =='.':\n",
    "\t\t\tcleanered.append(i)\n",
    "\t\telse: continue\n",
    "\tclean_num = ''.join(cleanered)\t\n",
    "\treturn clean_num\n",
    "\n",
    "for i in profiles:\n",
    "\t# print(i['balance'])\n",
    "\t# print(type(i['balance']))\t\n",
    "\tcleaned_balance = cleaner(i['balance'])\n",
    "\tbalances_list.append(float(cleaned_balance))\n",
    "\n",
    "sum_balances=sum(balances_list)\n",
    "print(f'Grand total of balances: ${sum_balances}')\n"
   ]
  },
  {
   "cell_type": "markdown",
   "metadata": {},
   "source": [
    "# 3.e"
   ]
  },
  {
   "cell_type": "code",
   "execution_count": null,
   "metadata": {},
   "outputs": [
    {
     "name": "stdout",
     "output_type": "stream",
     "text": [
      "Average balance per user: $2771.95\n"
     ]
    }
   ],
   "source": [
    "import json\n",
    "import pprint\n",
    "import statistics as stats\n",
    "\n",
    "profiles = json.load(open('profiles.json'))\n",
    "balances_list = []\n",
    "# pprint.pprint(profiles)\n",
    "\n",
    "def cleaner(string_of_nums):\n",
    "\tcleanered = []\n",
    "\tfor i in string_of_nums:\n",
    "\t\tif i.isdigit() or i =='.':\n",
    "\t\t\tcleanered.append(i)\n",
    "\t\telse: continue\n",
    "\tclean_num = ''.join(cleanered)\t\n",
    "\treturn clean_num\n",
    "\n",
    "for i in profiles:\n",
    "\t# print(i['balance'])\n",
    "\t# print(type(i['balance']))\t\n",
    "\tcleaned_balance = cleaner(i['balance'])\n",
    "\tbalances_list.append(float(cleaned_balance))\n",
    "\n",
    "avg_balances=stats.mean(balances_list)\n",
    "print(f'Average balance per user: ${avg_balances:.2f}')\n"
   ]
  },
  {
   "cell_type": "markdown",
   "metadata": {},
   "source": [
    "# 3.f"
   ]
  },
  {
   "cell_type": "code",
   "execution_count": null,
   "metadata": {},
   "outputs": [
    {
     "name": "stdout",
     "output_type": "stream",
     "text": [
      "User with the lowest balance: Avery Flynn\n"
     ]
    }
   ],
   "source": [
    "import json\n",
    "import pprint\n",
    "import statistics as stats\n",
    "\n",
    "profiles = json.load(open('profiles.json'))\n",
    "balances_list = []\n",
    "names_list = []\n",
    "# pprint.pprint(profiles)\n",
    "\n",
    "def cleaner(string_of_nums):\n",
    "\tcleanered = []\n",
    "\tfor i in string_of_nums:\n",
    "\t\tif i.isdigit() or i == '.':\n",
    "\t\t\tcleanered.append(i)\n",
    "\t\telse: continue\n",
    "\tclean_num = ''.join(cleanered)\t\n",
    "\treturn clean_num\n",
    "\n",
    "for i in profiles:\n",
    "\t# print(i['balance'])\n",
    "\t# print(type(i['balance']))\t\n",
    "\tcleaned_balance = cleaner(i['balance'])\n",
    "\tbalances_list.append(float(cleaned_balance))\n",
    "\tnames_list.append(i['name'])\n",
    "\n",
    "min_balance_index=balances_list.index(min(balances_list))\n",
    "name_lowest_bal=names_list[min_balance_index]\n",
    "print(f'User with the lowest balance: {name_lowest_bal}')\n",
    "\n"
   ]
  },
  {
   "cell_type": "markdown",
   "metadata": {},
   "source": [
    "# 3.g"
   ]
  },
  {
   "cell_type": "code",
   "execution_count": null,
   "metadata": {},
   "outputs": [
    {
     "name": "stdout",
     "output_type": "stream",
     "text": [
      "User with the highest balance: Fay Hammond\n"
     ]
    }
   ],
   "source": [
    "import json\n",
    "import pprint\n",
    "\n",
    "\n",
    "profiles = json.load(open('profiles.json'))\n",
    "balances_list = []\n",
    "names_list = []\n",
    "# pprint.pprint(profiles)\n",
    "\n",
    "def cleaner(string_of_nums):\n",
    "\tcleanered = []\n",
    "\tfor i in string_of_nums:\n",
    "\t\tif i.isdigit() or i == '.':\n",
    "\t\t\tcleanered.append(i)\n",
    "\t\telse: continue\n",
    "\tclean_num = ''.join(cleanered)\t\n",
    "\treturn clean_num\n",
    "\n",
    "for i in profiles:\n",
    "\t# print(i['balance'])\n",
    "\t# print(type(i['balance']))\t\n",
    "\tcleaned_balance = cleaner(i['balance'])\n",
    "\tbalances_list.append(float(cleaned_balance))\n",
    "\tnames_list.append(i['name'])\n",
    "\n",
    "max_balance_index=balances_list.index(max(balances_list))\n",
    "name_lowest_bal=names_list[max_balance_index]\n",
    "print(f'User with the highest balance: {name_lowest_bal}')\n",
    "\n"
   ]
  },
  {
   "cell_type": "markdown",
   "metadata": {},
   "source": [
    "# 3.h"
   ]
  },
  {
   "cell_type": "code",
   "execution_count": null,
   "metadata": {},
   "outputs": [
    {
     "name": "stdout",
     "output_type": "stream",
     "text": [
      "Most common favorite fruit is strawberry.\n"
     ]
    }
   ],
   "source": [
    "import json\n",
    "import pprint\n",
    "\n",
    "\n",
    "profiles = json.load(open('profiles.json'))\n",
    "fruits_dict = {}\n",
    "# pprint.pprint(profiles)\n",
    "\n",
    "\n",
    "\n",
    "for i in profiles: \n",
    "\tfruit=i['favoriteFruit']\n",
    "\tif fruit in fruits_dict:\n",
    "\t\tfruits_dict[fruit]+=1\n",
    "\telse:\t\n",
    "\t\tfruits_dict[fruit]=1\t\n",
    "\t\t\t\n",
    "\t\t\t\n",
    "# print (fruits_dict)\t\t\t\n",
    "\n",
    "max_most_fav=max(fruits_dict, key=fruits_dict.get)\n",
    "\n",
    "print(f'Most common favorite fruit is {max_most_fav}.')\n",
    "\n",
    "\n",
    "\t\t\t\n",
    "\t\t\t# if fruit in list(fruits_dict.keys()):\n",
    "\t\t\n",
    "\t# print(i['favoriteFruit'])\n",
    "\n",
    "\n"
   ]
  },
  {
   "cell_type": "markdown",
   "metadata": {},
   "source": [
    "# 3.i"
   ]
  },
  {
   "cell_type": "code",
   "execution_count": null,
   "metadata": {},
   "outputs": [
    {
     "name": "stdout",
     "output_type": "stream",
     "text": [
      "Least most common favorite fruit is apple.\n"
     ]
    }
   ],
   "source": [
    "import json\n",
    "import pprint\n",
    "\n",
    "\n",
    "profiles = json.load(open('profiles.json'))\n",
    "fruits_dict = {}\n",
    "# pprint.pprint(profiles)\n",
    "\n",
    "\n",
    "\n",
    "for i in profiles: \n",
    "\tfruit=i['favoriteFruit']\n",
    "\tif fruit in fruits_dict:\n",
    "\t\tfruits_dict[fruit]+=1\n",
    "\telse:\t\n",
    "\t\tfruits_dict[fruit]=1\t\n",
    "\t\t\t\n",
    "\t\t\t\n",
    "# print (fruits_dict)\t\t\t\n",
    "\n",
    "min_most_fav=min(fruits_dict, key=fruits_dict.get)\n",
    "\n",
    "print(f'Least most common favorite fruit is {min_most_fav}.')\n",
    "\n",
    "\n",
    "\t\t\t\n",
    "\t\t\t# if fruit in list(fruits_dict.keys()):\n",
    "\t\t\n",
    "\t# print(i['favoriteFruit'])\n",
    "\n",
    "\n"
   ]
  },
  {
   "cell_type": "markdown",
   "metadata": {},
   "source": [
    "# 3.j"
   ]
  },
  {
   "cell_type": "code",
   "execution_count": null,
   "metadata": {},
   "outputs": [
    {
     "name": "stdout",
     "output_type": "stream",
     "text": [
      "Total number of unread messages for all users: 210\n"
     ]
    }
   ],
   "source": [
    "import json\n",
    "import pprint\n",
    "\n",
    "\n",
    "profiles = json.load(open('profiles.json'))\n",
    "\n",
    "summer_upper=[]\n",
    "# pprint.pprint(profiles)\n",
    "\n",
    "for i in profiles: \n",
    "\tgreeting=i['greeting']\n",
    "\tgreet_list = []\n",
    "\tgreet_count=[]\n",
    "\tfor j in greeting:\n",
    "\t\tif j.isdigit():\n",
    "\t\t\tgreet_list.append(j)\n",
    "\t\t\tgreet_count = ''.join(greet_list)\n",
    "\t\t\t# print(greet_list)\n",
    "\t\telse:\t\n",
    "\t\t\tcontinue\n",
    "\t# print(greet_count)\t\t\n",
    "\t# greet_count = ''.join(greet_list)\n",
    "\tsummer_upper.append(int(greet_count))\n",
    "# print(summer_upper)\n",
    "\n",
    "print(f'Total number of unread messages for all users: {sum(summer_upper)}')\n",
    "\t\t"
   ]
  }
 ],
 "metadata": {
  "interpreter": {
   "hash": "3067ead486e059ec00ffe7555bdb889e6e264a24dc711bf108106cc7baee8d5d"
  },
  "kernelspec": {
   "display_name": "Python 3.9.7 64-bit ('base': conda)",
   "language": "python",
   "name": "python3"
  },
  "language_info": {
   "codemirror_mode": {
    "name": "ipython",
    "version": 3
   },
   "file_extension": ".py",
   "mimetype": "text/x-python",
   "name": "python",
   "nbconvert_exporter": "python",
   "pygments_lexer": "ipython3",
   "version": "3.9.7"
  },
  "orig_nbformat": 4
 },
 "nbformat": 4,
 "nbformat_minor": 2
}
